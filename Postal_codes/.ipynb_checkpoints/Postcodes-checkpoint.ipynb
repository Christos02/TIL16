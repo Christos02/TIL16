{
 "cells": [
  {
   "cell_type": "code",
   "execution_count": 20,
   "id": "92219a74",
   "metadata": {},
   "outputs": [],
   "source": [
    "import pandas as pd\n",
    "import numpy as np"
   ]
  },
  {
   "cell_type": "code",
   "execution_count": 45,
   "id": "e50f0b56",
   "metadata": {},
   "outputs": [
    {
     "data": {
      "text/plain": [
       "712.9024234240636"
      ]
     },
     "execution_count": 45,
     "metadata": {},
     "output_type": "execute_result"
    }
   ],
   "source": [
    "#necessary datasets\n",
    "stations = pd.read_csv('stations_met_aangrenzende_postcodes.csv',delimiter=';')\n",
    "stations\n",
    "\n",
    "postcodes = pd.read_csv('postal_codes_data_final.csv')\n",
    "postcode_array = postcodes['postcode'].to_numpy()\n",
    "\n",
    "#create an array for the area in the right unit\n",
    "area_m2 = postcodes['oppervlakte'].to_numpy()\n",
    "area_km2 = area_m2 *10e-06\n",
    "\n",
    "#create an array for the number of inhabitants and calculate population density\n",
    "inhabitants = postcodes['aantal_inwoners'].to_numpy()\n",
    "pop_density = inhabitants / area_km2\n",
    "\n",
    "postcode_density = np.c_[postcode_array, pop_density]\n",
    "\n",
    "#create postcode population density dictionary\n",
    "pp_dict = dict(zip(postcode_array,pop_density))\n",
    "pp_dict[2622]"
   ]
  },
  {
   "cell_type": "code",
   "execution_count": null,
   "id": "82fd9a66",
   "metadata": {},
   "outputs": [],
   "source": []
  }
 ],
 "metadata": {
  "kernelspec": {
   "display_name": "Python 3 (ipykernel)",
   "language": "python",
   "name": "python3"
  },
  "language_info": {
   "codemirror_mode": {
    "name": "ipython",
    "version": 3
   },
   "file_extension": ".py",
   "mimetype": "text/x-python",
   "name": "python",
   "nbconvert_exporter": "python",
   "pygments_lexer": "ipython3",
   "version": "3.11.4"
  }
 },
 "nbformat": 4,
 "nbformat_minor": 5
}
