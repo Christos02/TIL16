{
 "cells": [
  {
   "cell_type": "markdown",
   "id": "1d6507f8",
   "metadata": {},
   "source": [
    "The code in this notebook is used to generate a csv dataset from the information on the website https://dashboards.nsjaarverslag.nl/reizigersgedrag regarding NS station data."
   ]
  },
  {
   "cell_type": "markdown",
   "id": "96a81b76",
   "metadata": {},
   "source": [
    "# Load Libraries"
   ]
  },
  {
   "cell_type": "code",
   "execution_count": 3,
   "id": "d475746e",
   "metadata": {},
   "outputs": [],
   "source": [
    "import pandas as pd\n",
    "import requests\n",
    "import time\n",
    "from bs4 import BeautifulSoup\n",
    "from selenium import webdriver  \n",
    "from selenium.common.exceptions import NoSuchElementException  \n",
    "from selenium.webdriver.common.keys import Keys  "
   ]
  },
  {
   "cell_type": "markdown",
   "id": "042c66b4",
   "metadata": {},
   "source": [
    "##### Function that reads single webpage and returns results as dataframe\n",
    "** Access to the computer's webdriver is required **"
   ]
  },
  {
   "cell_type": "code",
   "execution_count": 4,
   "id": "b97f73c3",
   "metadata": {},
   "outputs": [],
   "source": [
    "def read_ns_data(station:str,year:str):\n",
    "    \"\"\"\n",
    "    Input: NS station and year\n",
    "    Method: Use Selenium which uses local browser to load a webpage\n",
    "    Reason: NS page is dynamic (not static) therefore the page loads in several phases (Due to animations)\n",
    "    Output: Statistics for the input station and year\n",
    "\n",
    "    \"\"\"\n",
    "    URL = \"https://dashboards.nsjaarverslag.nl/reizigersgedrag/\" + station +\"?dtYear=\" + year\n",
    "    browser = webdriver.Safari()  # Uses Safari, Can be modified to use Chrome\n",
    "    browser.get(URL)  \n",
    "    time.sleep(3)\n",
    "    html_source = browser.page_source  \n",
    "    browser.quit()\n",
    "    soup = BeautifulSoup(html_source,'html.parser')  \n",
    "    results = soup.find(id=\"content\")\n",
    "    kpi_value_containers = soup.find_all(class_='db-kpi_value-container')\n",
    "\n",
    "    # Initialize a dictionary to store the extracted values\n",
    "    kpi_values = {}\n",
    "\n",
    "    # Iterate through the value containers\n",
    "    for container in kpi_value_containers:\n",
    "        # Find the associated title (assuming it's in the parent div)\n",
    "        title = container.find_previous(class_='db-kpi_title').text.strip()\n",
    "\n",
    "        # Extract the value (assumes it's within a <span> element)\n",
    "        value_element = container.find('span', class_='db-kpi_value')\n",
    "        value = value_element.text.strip()\n",
    "\n",
    "        # Check if the title is already in the dictionary\n",
    "        if title in kpi_values:\n",
    "            # If it is, append the value to the existing list\n",
    "            kpi_values[title].append(value)\n",
    "        else:\n",
    "            # If it's not, create a new list with the value\n",
    "            kpi_values[title] = [value]\n",
    "            \n",
    "    # create data for dataframe\n",
    "    data ={}\n",
    "    for title, value in kpi_values.items():\n",
    "        if len(value) == 2:\n",
    "            data[title + '_voor'] = value[0]\n",
    "            data[title + '_na'] = value[1]\n",
    "        else:\n",
    "            data[title] = value\n",
    "\n",
    "    df = pd.DataFrame(data)\n",
    "    df.index = pd.MultiIndex.from_tuples([(station, year)], names=['Station', 'Year'])\n",
    "    return df"
   ]
  },
  {
   "cell_type": "markdown",
   "id": "639e3a48",
   "metadata": {},
   "source": [
    "#### Test function"
   ]
  },
  {
   "cell_type": "code",
   "execution_count": 5,
   "id": "c47b96ad",
   "metadata": {},
   "outputs": [
    {
     "data": {
      "text/html": [
       "<div>\n",
       "<style scoped>\n",
       "    .dataframe tbody tr th:only-of-type {\n",
       "        vertical-align: middle;\n",
       "    }\n",
       "\n",
       "    .dataframe tbody tr th {\n",
       "        vertical-align: top;\n",
       "    }\n",
       "\n",
       "    .dataframe thead th {\n",
       "        text-align: right;\n",
       "    }\n",
       "</style>\n",
       "<table border=\"1\" class=\"dataframe\">\n",
       "  <thead>\n",
       "    <tr style=\"text-align: right;\">\n",
       "      <th></th>\n",
       "      <th></th>\n",
       "      <th>Reizigers per dag</th>\n",
       "      <th>Klantoordeel</th>\n",
       "      <th>In- en uitstappers</th>\n",
       "      <th>Overstappers</th>\n",
       "      <th>Ochtendspits</th>\n",
       "      <th>Avondspits</th>\n",
       "      <th>Daluren</th>\n",
       "      <th>Lopend_voor</th>\n",
       "      <th>Lopend_na</th>\n",
       "      <th>Fiets_voor</th>\n",
       "      <th>Fiets_na</th>\n",
       "      <th>Bus/tram/metro_voor</th>\n",
       "      <th>Bus/tram/metro_na</th>\n",
       "      <th>Auto (bestuurder)_voor</th>\n",
       "      <th>Auto (bestuurder)_na</th>\n",
       "      <th>Auto (passagier)_voor</th>\n",
       "      <th>Auto (passagier)_na</th>\n",
       "      <th>(Deel)taxi_voor</th>\n",
       "      <th>(Deel)taxi_na</th>\n",
       "    </tr>\n",
       "    <tr>\n",
       "      <th>Station</th>\n",
       "      <th>Year</th>\n",
       "      <th></th>\n",
       "      <th></th>\n",
       "      <th></th>\n",
       "      <th></th>\n",
       "      <th></th>\n",
       "      <th></th>\n",
       "      <th></th>\n",
       "      <th></th>\n",
       "      <th></th>\n",
       "      <th></th>\n",
       "      <th></th>\n",
       "      <th></th>\n",
       "      <th></th>\n",
       "      <th></th>\n",
       "      <th></th>\n",
       "      <th></th>\n",
       "      <th></th>\n",
       "      <th></th>\n",
       "      <th></th>\n",
       "    </tr>\n",
       "  </thead>\n",
       "  <tbody>\n",
       "    <tr>\n",
       "      <th>delft</th>\n",
       "      <th>2019</th>\n",
       "      <td>40.818</td>\n",
       "      <td>92%</td>\n",
       "      <td>40.435</td>\n",
       "      <td>383</td>\n",
       "      <td>22%</td>\n",
       "      <td>19%</td>\n",
       "      <td>59%</td>\n",
       "      <td>27%</td>\n",
       "      <td>38%</td>\n",
       "      <td>53%</td>\n",
       "      <td>37%</td>\n",
       "      <td>17%</td>\n",
       "      <td>21%</td>\n",
       "      <td>1%</td>\n",
       "      <td>1%</td>\n",
       "      <td>2%</td>\n",
       "      <td>3%</td>\n",
       "      <td>0%</td>\n",
       "      <td>0%</td>\n",
       "    </tr>\n",
       "  </tbody>\n",
       "</table>\n",
       "</div>"
      ],
      "text/plain": [
       "             Reizigers per dag Klantoordeel In- en uitstappers Overstappers  \\\n",
       "Station Year                                                                  \n",
       "delft   2019            40.818          92%             40.435          383   \n",
       "\n",
       "             Ochtendspits Avondspits Daluren Lopend_voor Lopend_na Fiets_voor  \\\n",
       "Station Year                                                                    \n",
       "delft   2019          22%        19%     59%         27%       38%        53%   \n",
       "\n",
       "             Fiets_na Bus/tram/metro_voor Bus/tram/metro_na  \\\n",
       "Station Year                                                  \n",
       "delft   2019      37%                 17%               21%   \n",
       "\n",
       "             Auto (bestuurder)_voor Auto (bestuurder)_na  \\\n",
       "Station Year                                               \n",
       "delft   2019                     1%                   1%   \n",
       "\n",
       "             Auto (passagier)_voor Auto (passagier)_na (Deel)taxi_voor  \\\n",
       "Station Year                                                             \n",
       "delft   2019                    2%                  3%              0%   \n",
       "\n",
       "             (Deel)taxi_na  \n",
       "Station Year                \n",
       "delft   2019            0%  "
      ]
     },
     "execution_count": 5,
     "metadata": {},
     "output_type": "execute_result"
    }
   ],
   "source": [
    "read_ns_data('delft','2019')"
   ]
  },
  {
   "cell_type": "markdown",
   "id": "b3737b12",
   "metadata": {},
   "source": [
    "#### Create a list of all NS stations in South and North Holland and the list of years for which there is information"
   ]
  },
  {
   "cell_type": "code",
   "execution_count": 6,
   "id": "0bda6fd9",
   "metadata": {},
   "outputs": [],
   "source": [
    "ns_stations_south = ['alphen-aan-den-rijn','barendrecht','bodegraven','boskoop','boskoop-snijdelwijk','capelle-schollevaar',\n",
    "               'de-vink','delft','delft-campus','den-haag-centraal','den-haag-hs','den-haag-laan-van-noi','den-haag-mariahoeve',\n",
    "               'den-haag-moerwijk','den-haag-ypenburg','dordrecht','dordrecht-zuid','gouda','gouda-goverwelle','hillegom',\n",
    "               'lansingerland-zoetermeer','leiden-centraal','leiden-lammenschans','nieuwerkerk-a-d-ijssel','rijswijk',\n",
    "               'rotterdam-alexander','rotterdam-blaak','rotterdam-centraal','rotterdam-lombardijen','rotterdam-noord',\n",
    "               'rotterdam-zuid','sassenheim','schiedam-centrum','voorburg','voorhout','voorschoten','waddinxveen','waddinxveen-noord',\n",
    "               'waddinxveen-triangel','zoetermeer','zoetermeer-oost','zwijndrecht'\n",
    "              ]\n",
    "\n",
    "\n",
    "ns_stations_north = ['alkmaar','alkmaar-noord','amsterdam-amstel','amsterdam-bijlmer-arena','amsterdam-centraal', 'amsterdam-holendrecht',\n",
    "               'amsterdam-lelylaan','amsterdam-muiderpoort','amsterdam-rai','amsterdam-science-park','amsterdam-sloterdijk','amsterdam-zuid',\n",
    "               'anna-paulowna','beverwijk','bloemendaal','bovenkarspel-flora','bovenkarspel-grootebroek','bussum-zuid', 'castricum',\n",
    "               'den-helder','den-helder-zuid','diemen','diemen-zuid','driehuis','duivendrecht','enkhuizen','haarlem','haarlem-spaarnwoude',\n",
    "               'halfweg-zwanenburg','heemskerk','heemstede-aerdenhout','heerhugowaard','heiloo','hilversum','hilversum-media-park',\n",
    "               'hilversum-sportpark','hollandsche-rading','hoofddorp','hoogkarspel','hoorn','hoorn-kersenboogerd','koog-aan-de-zaan',\n",
    "               'krommenie-assendelft','naarden-bussum','nieuw-vennep','obdam','overveen','purmerend','purmerend-overwhere','purmerend-weidevenne',\n",
    "               'santpoort-noord','santpoort-zuid','schagen','schiphol-airport','uitgeest','weesp','wormerveer','zaandam','zaandam-kogerveld',\n",
    "               'zaandijk-zaanse-schans','zandvoort-aan-zee'        \n",
    "              ]\n",
    "\n",
    "ns_stations = ns_stations_south + ns_stations_north\n",
    "\n",
    "\n",
    "years = ['2019','2020','2021','2022']"
   ]
  },
  {
   "cell_type": "markdown",
   "id": "7ae10567",
   "metadata": {},
   "source": [
    "#### Create Dataframe for all stations/years"
   ]
  },
  {
   "cell_type": "code",
   "execution_count": null,
   "id": "2c25140b",
   "metadata": {},
   "outputs": [],
   "source": [
    "# Create Dataframe\n",
    "\n",
    "df_ns_data = pd.DataFrame() # create empty dataframe to be filled-in\n",
    "# Loop through stations and years\n",
    "for station in ns_stations:\n",
    "    for year in years:\n",
    "        # Call the read_ns_data function\n",
    "        df = read_ns_data(station, year)\n",
    "        \n",
    "        # Concatenate the obtained DataFrame with the df_ns_data\n",
    "        df_ns_data = pd.concat([df_ns_data, df])\n",
    "df_ns_data.to_csv('unfiltered_ns_data_Holland.csv') # save unfiltered dataset to csv"
   ]
  },
  {
   "cell_type": "markdown",
   "id": "27c64295",
   "metadata": {},
   "source": [
    "#### Filter dataframe"
   ]
  },
  {
   "cell_type": "code",
   "execution_count": null,
   "id": "a696f6d5",
   "metadata": {},
   "outputs": [],
   "source": [
    "# Filter Dataframe\n",
    "\n",
    "df_ns = pd.read_csv('unfiltered_ns_data_Holland.csv',dtype={'Reizigers per dag': str,'In- en uitstappers':str,'Overstappers':str}) # load the csv\n",
    "\n",
    "# Account for passenger values over 1000 which are displayed with a dot\n",
    "def multiply_by_1000(value):\n",
    "    if '.' in value:\n",
    "        return int( float(value) * 1000 )\n",
    "    else:\n",
    "        return value\n",
    "# 'In- en uitstappers','Overstappers'\n",
    "df_ns['Reizigers per dag'] = df_ns['Reizigers per dag'].apply(multiply_by_1000)\n",
    "df_ns['In- en uitstappers'] = df_ns['In- en uitstappers'].apply(multiply_by_1000)\n",
    "df_ns['Overstappers'] = df_ns['Overstappers'].apply(multiply_by_1000)\n",
    "\n",
    "df_ns.to_csv('df_ns_Holland.csv') #save dataframe\n",
    "\n",
    "\n",
    "# df_ns dataframe is now ready to use"
   ]
  },
  {
   "cell_type": "markdown",
   "id": "4c7fc292",
   "metadata": {},
   "source": [
    "#### Test"
   ]
  },
  {
   "cell_type": "code",
   "execution_count": null,
   "id": "cb19154e",
   "metadata": {},
   "outputs": [],
   "source": [
    "# extract data for a specific station on a specific year\n",
    "df_ns[(df_ns['Station'] == 'alphen-aan-den-rijn') & (df_ns['Year'] == 2019)]"
   ]
  },
  {
   "cell_type": "code",
   "execution_count": null,
   "id": "34639bf5",
   "metadata": {},
   "outputs": [],
   "source": [
    "# extract data for a specific year\n",
    "df_ns[df_ns['Year'] == 2019].head()"
   ]
  }
 ],
 "metadata": {
  "kernelspec": {
   "display_name": "Python 3 (ipykernel)",
   "language": "python",
   "name": "python3"
  },
  "language_info": {
   "codemirror_mode": {
    "name": "ipython",
    "version": 3
   },
   "file_extension": ".py",
   "mimetype": "text/x-python",
   "name": "python",
   "nbconvert_exporter": "python",
   "pygments_lexer": "ipython3",
   "version": "3.11.4"
  }
 },
 "nbformat": 4,
 "nbformat_minor": 5
}
