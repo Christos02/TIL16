{
 "cells": [
  {
   "cell_type": "markdown",
   "metadata": {},
   "source": [
    "# Project Group 16\n",
    "\n",
    "Members: Jurian Fijen, Quirine Japikse, Christos Paschalidis, Kristian Terlien, Timo Locher\n",
    "\n",
    "Student numbers: "
   ]
  },
  {
   "cell_type": "markdown",
   "metadata": {},
   "source": [
    "# Research Objective\n",
    "\n",
    "*Requires data modeling and quantitative research in Transport, Infrastructure & Logistics*"
   ]
  },
  {
   "cell_type": "markdown",
   "metadata": {},
   "source": [
    "Research question: What is the effect of the population density of a municipality on the first and last mile transport of their NS stations?\n",
    "\n",
<<<<<<< Updated upstream
    "The plan is to combine first- and last-mile transport data with CBS data concerning the built environment of the train station surroundings. Cumbersome first- and last-mile transport can be an inhibition in choosing public transport. The goal is to obtain a better understanding of these factors in multi-modal trips. Data sources are NS, CBS and ODiN. The plan is to choose data from a specific year (probably 2019) and only within The Netherlands NS train stations."
=======
    "The plan is to combine first- and last-mile transport data from NS with CBS data concerning the built environment of the train station surroundings. Cumbersome first- and last-mile transport can be an inhibition in choosing public transport. The goal is to obtain a better understanding of these factors in multi-modal trips. Data sources are NS, CBS, PDOK en Overheid.nl. The plan is to choose data from a specific year (probably 2019) and only within the NS stations form the provinces North- and South-Holland.\n",
    "\n",
    "The NS data provides insight into the pre- and post-transportation from the stations. Moreover, we combine the surface area and the number of inhabitants of the postal codes to calculate the population density. Subsequently, an assumption has been made about which postal codes use which stations. The average population density associated with a station and the pre- and post-transportation can provide insight into the choices regarding the types of modes of transport.\n"
>>>>>>> Stashed changes
   ]
  },
  {
   "cell_type": "markdown",
   "metadata": {},
   "source": [
    "# Contribution Statement\n",
    "\n",
    "*Be specific. Some of the tasks can be coding (expect everyone to do this), background research, conceptualisation, visualisation, data analysis, data modelling*"
   ]
  },
  {
   "cell_type": "markdown",
   "metadata": {},
   "source": [
    "**Author 1**: Jurian Fijen\n",
    "\n",
    "**Author 2**: Quirine Japikse\n",
    "\n",
    "**Author 3**: Christos Paschalidis\n",
    "\n",
    "**Author 4**: Kristian Terlien\n",
    "\n",
    "**Author 5**: Timo Locher"
   ]
  },
  {
   "cell_type": "markdown",
   "metadata": {},
   "source": [
    "# Data Used"
   ]
  },
  {
   "cell_type": "markdown",
   "metadata": {},
   "source": [
    "Data sources: \\\n",
    "NS station data: https://dashboards.nsjaarverslag.nl/reizigersgedrag/ \\\n",
    "https://opendata.cbs.nl/statline/#/CBS/nl/ "
   ]
  },
  {
   "cell_type": "markdown",
   "metadata": {},
   "source": [
    "# Data Pipeline"
   ]
  },
  {
   "cell_type": "markdown",
   "metadata": {},
   "source": [
    "NS data: We begin by reading-in all the data regarding North and South Holland stations off the NS website (one station/year at a time) and parse through the information. The entries are merged and create a single csv.\\\n",
    "Data 2: \\\n",
    "Data 3:"
   ]
  },
  {
   "cell_type": "markdown",
   "metadata": {},
   "source": [
    "# Load Libraries"
   ]
  },
  {
   "cell_type": "code",
   "execution_count": null,
   "metadata": {
    "scrolled": true
   },
   "outputs": [],
   "source": [
    "import pandas as pd\n",
    "import numpy as np"
   ]
  },
  {
   "cell_type": "markdown",
   "metadata": {},
   "source": [
    "# Data Import / Filtering"
   ]
  },
  {
   "cell_type": "markdown",
   "metadata": {},
   "source": [
    "### NS Data "
   ]
  },
  {
   "cell_type": "markdown",
   "metadata": {},
   "source": [
    "#### Import and filtering of NS data is done in notebook Read_ns_data.ipynb (link to github)"
   ]
  },
  {
   "cell_type": "code",
   "execution_count": null,
   "metadata": {},
   "outputs": [],
   "source": [
    "df_ns = pd.read_csv('df_ns_Holland.csv')"
   ]
  },
  {
   "cell_type": "code",
   "execution_count": null,
   "metadata": {},
   "outputs": [],
   "source": [
    "# extract data for a specific station on a specific year\n",
    "df_ns[(df_ns['Station'] == 'alphen-aan-den-rijn') & (df_ns['Year'] == 2019)]"
   ]
  },
  {
   "cell_type": "code",
   "execution_count": null,
   "metadata": {},
   "outputs": [],
   "source": [
    "# extract data for a specific year\n",
    "df_ns[df_ns['Year'] == 2019].head()"
   ]
  },
  {
   "cell_type": "markdown",
   "metadata": {},
   "source": [
    "### Population density calculation ###\n",
    "To obtain an estimation of the population density around a train station, the population density for the postal codes in and around the stations is calculated."
   ]
  },
  {
   "cell_type": "code",
   "execution_count": null,
   "metadata": {},
   "outputs": [],
   "source": [
    "#necessary datasets\n",
    "\n",
    "\n",
    "postcodes = pd.read_csv('postal_codes_data_final.csv')\n",
    "postcode_array = postcodes['postcode'].to_numpy()\n",
    "\n",
    "#create an array for the area in the right unit\n",
    "area_m2 = postcodes['oppervlakte'].to_numpy()\n",
    "area_km2 = area_m2 *10e-06\n",
    "\n",
    "#create an array for the number of inhabitants and calculate population density\n",
    "inhabitants = postcodes['aantal_inwoners'].to_numpy()\n",
    "pop_density = inhabitants / area_km2\n",
    "\n",
    "postcode_density = np.c_[postcode_array, pop_density]\n",
    "\n",
    "#create postcode population density dictionary\n",
    "pp_dict = dict(zip(postcode_array,pop_density))"
   ]
  },
  {
   "cell_type": "code",
   "execution_count": null,
   "metadata": {
    "scrolled": true
   },
   "outputs": [],
   "source": [
    "stations = pd.read_csv('NS_stations_met_aangrenzende_postcodes.csv', delimiter = ',')\n",
    "stations\n",
    "\n",
    "#add the population density data for zone0\n",
    "postcode_gebied_station_arr = stations['postcode_gebied_station'].to_numpy()\n",
    "\n",
    "#create array with populetion density zone 0\n",
    "pop_dens_zone0 = np.zeros(len(postcode_gebied_station_arr))\n",
    "for i in range(len(postcode_gebied_station_arr)):\n",
    "    pop_dens_zone0[i] = pp_dict[postcode_gebied_station_arr[i]]\n",
    "    \n",
    "#add to dataframe\n",
    "stations['pop_density_zone0'] = pop_dens_zone0\n",
    "stations\n",
    "\n",
    "\n",
    "#calculate population density for zone1\n",
    "zone1_arr = stations['postcode_aangrenzende_postcode_gebieden'].to_numpy()\n",
    "\n",
    "#split strings into lists\n",
    "for i in range(len(zone1_arr)):\n",
    "    zone1_arr[i] = zone1_arr[i].split(',') \n",
    "\n",
    "#create array with population density for zone1\n",
    "pop_dens_zone1 = np.zeros(len(zone1_arr))\n",
    "\n",
    "#calculate average pop dens of postal codes\n",
    "for j in range(len(zone1_arr)):\n",
    "    sum_pop_dens = 0\n",
    "    for i in range(len(zone1_arr[j])):    \n",
    "        sum_pop_dens += pp_dict[int(zone1_arr[j][i])]\n",
    "    avg_pop_dens = sum_pop_dens/len(zone1_arr[j])\n",
    "    pop_dens_zone1[j] = avg_pop_dens\n",
    "\n",
    "#add to dataframe\n",
    "stations['pop_density_zone1'] = pop_dens_zone1\n",
    "stations.to_csv('population_densities.csv')\n",
    "stations"
   ]
  },
  {
   "cell_type": "code",
   "execution_count": null,
   "metadata": {
    "scrolled": false
   },
   "outputs": [],
   "source": [
    "df_ns_2019 = df_ns[df_ns['Year'] == 2019].copy()\n",
    "\n",
    "#set index for both dataframes\n",
    "df_ns_2019 = df_ns_2019.set_index('Station').copy()\n",
    "df_ns_2019\n",
    "stations = stations.set_index('station_naam').copy()\n",
    "\n",
    "#merge both dataframes\n",
    "stations_merged = stations.merge(df_ns_2019, left_index=True, right_index=True)\n",
    "stations_merged\n"
   ]
  },
  {
   "cell_type": "markdown",
   "metadata": {},
   "source": [
    "# Data Analysis"
   ]
  },
  {
   "cell_type": "code",
   "execution_count": null,
   "metadata": {},
   "outputs": [],
   "source": []
  }
 ],
 "metadata": {
  "kernelspec": {
   "display_name": "Python 3 (ipykernel)",
   "language": "python",
   "name": "python3"
  },
  "language_info": {
   "codemirror_mode": {
    "name": "ipython",
    "version": 3
   },
   "file_extension": ".py",
   "mimetype": "text/x-python",
   "name": "python",
   "nbconvert_exporter": "python",
   "pygments_lexer": "ipython3",
   "version": "3.11.4"
  },
  "vscode": {
   "interpreter": {
    "hash": "31f2aee4e71d21fbe5cf8b01ff0e069b9275f58929596ceb00d14d90e3e16cd6"
   }
  }
 },
 "nbformat": 4,
 "nbformat_minor": 4
}
