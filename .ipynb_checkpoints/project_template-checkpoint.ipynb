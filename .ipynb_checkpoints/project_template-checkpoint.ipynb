{
 "cells": [
  {
   "cell_type": "markdown",
   "metadata": {},
   "source": [
    "# Project Group - \n",
    "\n",
    "Members: \n",
    "\n",
    "Student numbers: "
   ]
  },
  {
   "cell_type": "markdown",
   "metadata": {},
   "source": [
    "# Research Objective\n",
    "\n",
    "*Requires data modeling and quantitative research in Transport, Infrastructure & Logistics*"
   ]
  },
  {
   "cell_type": "markdown",
   "metadata": {},
   "source": []
  },
  {
   "cell_type": "markdown",
   "metadata": {},
   "source": [
    "# Contribution Statement\n",
    "\n",
    "*Be specific. Some of the tasks can be coding (expect everyone to do this), background research, conceptualisation, visualisation, data analysis, data modelling*"
   ]
  },
  {
   "cell_type": "markdown",
   "metadata": {},
   "source": [
    "**Author 1**: Jurian Fijen\n",
    "\n",
    "**Author 2**: Quirine Japikse\n",
    "\n",
    "**Author 3**: Christos Paschalidis\n",
    "\n",
    "**Author 4**: Kristian Terlien\n",
    "\n",
    "**Author 5**: Timo Locher"
   ]
  },
  {
   "cell_type": "markdown",
   "metadata": {},
   "source": [
    "# Data Used"
   ]
  },
  {
   "cell_type": "markdown",
   "metadata": {},
   "source": []
  },
  {
   "cell_type": "markdown",
   "metadata": {},
   "source": [
    "# Data Pipeline"
   ]
  },
  {
   "cell_type": "markdown",
   "metadata": {},
   "source": []
  },
  {
   "cell_type": "markdown",
   "metadata": {},
   "source": [
    "# Load Libraries"
   ]
  },
  {
   "cell_type": "code",
   "execution_count": 52,
   "metadata": {
    "scrolled": true
   },
   "outputs": [],
   "source": [
    "import pandas as pd\n",
    "import requests\n",
    "import time\n",
    "from bs4 import BeautifulSoup\n",
    "from selenium import webdriver  \n",
    "from selenium.common.exceptions import NoSuchElementException  \n",
    "from selenium.webdriver.common.keys import Keys  "
   ]
  },
  {
   "cell_type": "markdown",
   "metadata": {},
   "source": [
    "# Data Import / Filtering"
   ]
  },
  {
   "cell_type": "code",
   "execution_count": 53,
   "metadata": {},
   "outputs": [],
   "source": [
    "def read_ns_data(station:str,year:str):\n",
    "    \"\"\"\n",
    "    Input: NS station and year\n",
    "    Method: Use Selenium which uses local browser to load a webpage\n",
    "    Reason: NS page is dynamic (not static) therefore the page loads in several phases (Due to animations)\n",
    "    Output: Statistics for the input station and year\n",
    "\n",
    "    \"\"\"\n",
    "    URL = \"https://dashboards.nsjaarverslag.nl/reizigersgedrag/\" + station +\"?dtYear=\" + year\n",
    "    browser = webdriver.Safari()  \n",
    "    browser.get(URL)  \n",
    "    time.sleep(2)\n",
    "    html_source = browser.page_source  \n",
    "    browser.quit()\n",
    "    soup = BeautifulSoup(html_source,'html.parser')  \n",
    "    results = soup.find(id=\"content\")\n",
    "    kpi_value_containers = soup.find_all(class_='db-kpi_value-container')\n",
    "\n",
    "    # Initialize a dictionary to store the extracted values\n",
    "    kpi_values = {}\n",
    "\n",
    "    # Iterate through the value containers\n",
    "    for container in kpi_value_containers:\n",
    "        # Find the associated title (assuming it's in the parent div)\n",
    "        title = container.find_previous(class_='db-kpi_title').text.strip()\n",
    "\n",
    "        # Extract the value (assumes it's within a <span> element)\n",
    "        value_element = container.find('span', class_='db-kpi_value')\n",
    "        value = value_element.text.strip()\n",
    "\n",
    "        # Check if the title is already in the dictionary\n",
    "        if title in kpi_values:\n",
    "            # If it is, append the value to the existing list\n",
    "            kpi_values[title].append(value)\n",
    "        else:\n",
    "            # If it's not, create a new list with the value\n",
    "            kpi_values[title] = [value]\n",
    "\n",
    "    # Print the extracted values\n",
    "    for title, value in kpi_values.items():\n",
    "        print(f\"{title}: {value}\")"
   ]
  },
  {
   "cell_type": "code",
   "execution_count": 54,
   "metadata": {
    "scrolled": true
   },
   "outputs": [
    {
     "name": "stdout",
     "output_type": "stream",
     "text": [
      "Reizigers per dag: ['40.818']\n",
      "Klantoordeel: ['92%']\n",
      "In- en uitstappers: ['40.435']\n",
      "Overstappers: ['383']\n",
      "Ochtendspits: ['22%']\n",
      "Avondspits: ['19%']\n",
      "Daluren: ['59%']\n",
      "Lopend: ['27%', '38%']\n",
      "Fiets: ['53%', '37%']\n",
      "Bus/tram/metro: ['17%', '21%']\n",
      "Auto (bestuurder): ['1%', '1%']\n",
      "Auto (passagier): ['2%', '3%']\n",
      "(Deel)taxi: ['0%', '0%']\n"
     ]
    }
   ],
   "source": [
    "read_ns_data('delft','2019')"
   ]
  },
  {
   "cell_type": "code",
   "execution_count": 55,
   "metadata": {},
   "outputs": [
    {
     "name": "stdout",
     "output_type": "stream",
     "text": [
      "Reizigers per dag: ['37.793']\n",
      "Klantoordeel: ['79%']\n",
      "In- en uitstappers: ['36.100']\n",
      "Overstappers: ['1.693']\n",
      "Ochtendspits: ['14%']\n",
      "Avondspits: ['28%']\n",
      "Daluren: ['58%']\n",
      "Lopend: ['19%', '36%']\n",
      "Fiets: ['45%', '13%']\n",
      "Bus/tram/metro: ['35%', '50%']\n",
      "Auto (bestuurder): ['0%', '0%']\n",
      "Auto (passagier): ['1%', '1%']\n",
      "(Deel)taxi: ['0%', '0%']\n"
     ]
    }
   ],
   "source": [
    "read_ns_data('amsterdam-amstel','2019')"
   ]
  },
  {
   "cell_type": "code",
   "execution_count": 56,
   "metadata": {},
   "outputs": [
    {
     "name": "stdout",
     "output_type": "stream",
     "text": [
      "Reizigers per dag: ['120.670']\n",
      "Klantoordeel: ['93%']\n",
      "In- en uitstappers: ['101.732']\n",
      "Overstappers: ['18.938']\n",
      "Ochtendspits: ['17%']\n",
      "Avondspits: ['22%']\n",
      "Daluren: ['61%']\n",
      "Lopend: ['23%', '44%']\n",
      "Fiets: ['27%', '10%']\n",
      "Bus/tram/metro: ['48%', '44%']\n",
      "Auto (bestuurder): ['0%', '0%']\n",
      "Auto (passagier): ['2%', '2%']\n",
      "(Deel)taxi: ['0%', '0%']\n"
     ]
    }
   ],
   "source": [
    "read_ns_data('rotterdam-centraal','2019')"
   ]
  }
 ],
 "metadata": {
  "kernelspec": {
   "display_name": "Python 3 (ipykernel)",
   "language": "python",
   "name": "python3"
  },
  "language_info": {
   "codemirror_mode": {
    "name": "ipython",
    "version": 3
   },
   "file_extension": ".py",
   "mimetype": "text/x-python",
   "name": "python",
   "nbconvert_exporter": "python",
   "pygments_lexer": "ipython3",
   "version": "3.11.4"
  },
  "vscode": {
   "interpreter": {
    "hash": "31f2aee4e71d21fbe5cf8b01ff0e069b9275f58929596ceb00d14d90e3e16cd6"
   }
  }
 },
 "nbformat": 4,
 "nbformat_minor": 4
}
